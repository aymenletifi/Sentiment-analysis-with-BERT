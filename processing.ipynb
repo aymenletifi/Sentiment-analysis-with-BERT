{
 "cells": [
  {
   "cell_type": "code",
   "execution_count": 56,
   "metadata": {},
   "outputs": [
    {
     "data": {
      "text/html": [
       "<div>\n",
       "<style scoped>\n",
       "    .dataframe tbody tr th:only-of-type {\n",
       "        vertical-align: middle;\n",
       "    }\n",
       "\n",
       "    .dataframe tbody tr th {\n",
       "        vertical-align: top;\n",
       "    }\n",
       "\n",
       "    .dataframe thead th {\n",
       "        text-align: right;\n",
       "    }\n",
       "</style>\n",
       "<table border=\"1\" class=\"dataframe\">\n",
       "  <thead>\n",
       "    <tr style=\"text-align: right;\">\n",
       "      <th></th>\n",
       "      <th>note</th>\n",
       "      <th>id</th>\n",
       "      <th>date</th>\n",
       "      <th>query</th>\n",
       "      <th>user</th>\n",
       "      <th>review</th>\n",
       "    </tr>\n",
       "  </thead>\n",
       "  <tbody>\n",
       "    <tr>\n",
       "      <th>0</th>\n",
       "      <td>0</td>\n",
       "      <td>1467810369</td>\n",
       "      <td>Mon Apr 06 22:19:45 PDT 2009</td>\n",
       "      <td>NO_QUERY</td>\n",
       "      <td>_TheSpecialOne_</td>\n",
       "      <td>@switchfoot http://twitpic.com/2y1zl - Awww, t...</td>\n",
       "    </tr>\n",
       "    <tr>\n",
       "      <th>1</th>\n",
       "      <td>0</td>\n",
       "      <td>1467810672</td>\n",
       "      <td>Mon Apr 06 22:19:49 PDT 2009</td>\n",
       "      <td>NO_QUERY</td>\n",
       "      <td>scotthamilton</td>\n",
       "      <td>is upset that he can't update his Facebook by ...</td>\n",
       "    </tr>\n",
       "    <tr>\n",
       "      <th>2</th>\n",
       "      <td>0</td>\n",
       "      <td>1467810917</td>\n",
       "      <td>Mon Apr 06 22:19:53 PDT 2009</td>\n",
       "      <td>NO_QUERY</td>\n",
       "      <td>mattycus</td>\n",
       "      <td>@Kenichan I dived many times for the ball. Man...</td>\n",
       "    </tr>\n",
       "    <tr>\n",
       "      <th>3</th>\n",
       "      <td>0</td>\n",
       "      <td>1467811184</td>\n",
       "      <td>Mon Apr 06 22:19:57 PDT 2009</td>\n",
       "      <td>NO_QUERY</td>\n",
       "      <td>ElleCTF</td>\n",
       "      <td>my whole body feels itchy and like its on fire</td>\n",
       "    </tr>\n",
       "    <tr>\n",
       "      <th>4</th>\n",
       "      <td>0</td>\n",
       "      <td>1467811193</td>\n",
       "      <td>Mon Apr 06 22:19:57 PDT 2009</td>\n",
       "      <td>NO_QUERY</td>\n",
       "      <td>Karoli</td>\n",
       "      <td>@nationwideclass no, it's not behaving at all....</td>\n",
       "    </tr>\n",
       "  </tbody>\n",
       "</table>\n",
       "</div>"
      ],
      "text/plain": [
       "   note          id                          date     query             user  \\\n",
       "0     0  1467810369  Mon Apr 06 22:19:45 PDT 2009  NO_QUERY  _TheSpecialOne_   \n",
       "1     0  1467810672  Mon Apr 06 22:19:49 PDT 2009  NO_QUERY    scotthamilton   \n",
       "2     0  1467810917  Mon Apr 06 22:19:53 PDT 2009  NO_QUERY         mattycus   \n",
       "3     0  1467811184  Mon Apr 06 22:19:57 PDT 2009  NO_QUERY          ElleCTF   \n",
       "4     0  1467811193  Mon Apr 06 22:19:57 PDT 2009  NO_QUERY           Karoli   \n",
       "\n",
       "                                              review  \n",
       "0  @switchfoot http://twitpic.com/2y1zl - Awww, t...  \n",
       "1  is upset that he can't update his Facebook by ...  \n",
       "2  @Kenichan I dived many times for the ball. Man...  \n",
       "3    my whole body feels itchy and like its on fire   \n",
       "4  @nationwideclass no, it's not behaving at all....  "
      ]
     },
     "execution_count": 56,
     "metadata": {},
     "output_type": "execute_result"
    }
   ],
   "source": [
    "import warnings\n",
    "warnings.filterwarnings('ignore')\n",
    "\n",
    "import pandas as pd \n",
    "\n",
    "sheet = pd.read_csv('training.csv',encoding = \"ISO-8859-1\" , names=['note','id','date','query','user','review'])\n",
    "\n",
    "sheet.head()"
   ]
  },
  {
   "cell_type": "code",
   "execution_count": 57,
   "metadata": {},
   "outputs": [],
   "source": [
    "sheet = sheet.drop(columns=['id','date','query','user'])"
   ]
  },
  {
   "cell_type": "code",
   "execution_count": 58,
   "metadata": {},
   "outputs": [
    {
     "data": {
      "text/plain": [
       "(1600000, 2)"
      ]
     },
     "execution_count": 58,
     "metadata": {},
     "output_type": "execute_result"
    }
   ],
   "source": [
    "sheet.shape"
   ]
  },
  {
   "cell_type": "code",
   "execution_count": 59,
   "metadata": {},
   "outputs": [
    {
     "name": "stdout",
     "output_type": "stream",
     "text": [
      "<class 'pandas.core.frame.DataFrame'>\n",
      "RangeIndex: 1600000 entries, 0 to 1599999\n",
      "Data columns (total 2 columns):\n",
      "note      1600000 non-null int64\n",
      "review    1600000 non-null object\n",
      "dtypes: int64(1), object(1)\n",
      "memory usage: 24.4+ MB\n"
     ]
    }
   ],
   "source": [
    "sheet.info()"
   ]
  },
  {
   "cell_type": "code",
   "execution_count": 60,
   "metadata": {},
   "outputs": [
    {
     "data": {
      "text/plain": [
       "4    800000\n",
       "0    800000\n",
       "Name: note, dtype: int64"
      ]
     },
     "execution_count": 60,
     "metadata": {},
     "output_type": "execute_result"
    }
   ],
   "source": [
    "sheet.note.value_counts()"
   ]
  },
  {
   "cell_type": "code",
   "execution_count": 70,
   "metadata": {},
   "outputs": [
    {
     "data": {
      "text/html": [
       "<div>\n",
       "<style scoped>\n",
       "    .dataframe tbody tr th:only-of-type {\n",
       "        vertical-align: middle;\n",
       "    }\n",
       "\n",
       "    .dataframe tbody tr th {\n",
       "        vertical-align: top;\n",
       "    }\n",
       "\n",
       "    .dataframe thead th {\n",
       "        text-align: right;\n",
       "    }\n",
       "</style>\n",
       "<table border=\"1\" class=\"dataframe\">\n",
       "  <thead>\n",
       "    <tr style=\"text-align: right;\">\n",
       "      <th></th>\n",
       "      <th>note</th>\n",
       "      <th>review</th>\n",
       "    </tr>\n",
       "  </thead>\n",
       "  <tbody>\n",
       "    <tr>\n",
       "      <th>1345269</th>\n",
       "      <td>1</td>\n",
       "      <td>Just got a ticket to go hear John Piper at @ad...</td>\n",
       "    </tr>\n",
       "    <tr>\n",
       "      <th>1539357</th>\n",
       "      <td>1</td>\n",
       "      <td>Oh, look who is on lunch.</td>\n",
       "    </tr>\n",
       "    <tr>\n",
       "      <th>1434375</th>\n",
       "      <td>1</td>\n",
       "      <td>YAY!! this gig is almost over. only and hour a...</td>\n",
       "    </tr>\n",
       "    <tr>\n",
       "      <th>262889</th>\n",
       "      <td>0</td>\n",
       "      <td>@emmylucille Welcome! I'm kind of bad about tw...</td>\n",
       "    </tr>\n",
       "    <tr>\n",
       "      <th>1519936</th>\n",
       "      <td>1</td>\n",
       "      <td>@chrissie_ I MEANT U PWNED HIM!!!! hes just a ...</td>\n",
       "    </tr>\n",
       "  </tbody>\n",
       "</table>\n",
       "</div>"
      ],
      "text/plain": [
       "         note                                             review\n",
       "1345269     1  Just got a ticket to go hear John Piper at @ad...\n",
       "1539357     1                         Oh, look who is on lunch. \n",
       "1434375     1  YAY!! this gig is almost over. only and hour a...\n",
       "262889      0  @emmylucille Welcome! I'm kind of bad about tw...\n",
       "1519936     1  @chrissie_ I MEANT U PWNED HIM!!!! hes just a ..."
      ]
     },
     "execution_count": 70,
     "metadata": {},
     "output_type": "execute_result"
    }
   ],
   "source": [
    "from sklearn.utils import shuffle\n",
    "\n",
    "data = pd.DataFrame()\n",
    "\n",
    "\n",
    "\n",
    "for k in range(2):\n",
    "    note = k*4\n",
    "    df = sheet[sheet.note == note]\n",
    "    data = data.append( df.sample(n=30000) )\n",
    "    \n",
    "data.note = data.note.apply(lambda x: 1 if x==4 else 0)\n",
    "\n",
    "data = shuffle(data)\n",
    "data.head()"
   ]
  },
  {
   "cell_type": "code",
   "execution_count": 71,
   "metadata": {},
   "outputs": [],
   "source": [
    "#rt\n",
    "data.review = data.review.str.replace(r'(RT|rt)[ ]*@[ ]*[\\S]+',r'')\n",
    "\n",
    "#whitespaces\n",
    "data.review = data.review.apply(lambda x: x.replace('\\n', ' '))\n",
    "\n",
    "#lowercase\n",
    "data.review = data.review.apply(lambda x: x.lower())\n",
    "\n",
    "#url\n",
    "data.review = data.review.str.replace('http\\S+|www.\\S+', '', case=False)\n",
    "\n",
    "# @ sign\n",
    "data.review = data.review.str.replace(r'@[\\S]+',r'')"
   ]
  },
  {
   "cell_type": "code",
   "execution_count": 72,
   "metadata": {},
   "outputs": [],
   "source": [
    "import emoji\n",
    "\n",
    "def deEmojify(inputString):\n",
    "    return inputString.encode('ascii', 'ignore').decode('ascii')\n",
    "\n",
    "data.review = data.review.apply(lambda x: deEmojify(x))"
   ]
  },
  {
   "cell_type": "code",
   "execution_count": 73,
   "metadata": {},
   "outputs": [],
   "source": [
    "import string\n",
    "\n",
    "punct =[]\n",
    "punct += list(string.punctuation)\n",
    "punct += '’'\n",
    "punct.remove(\"\\\"\")\n",
    "punct.remove(\"!\")\n",
    "punct.remove(\"?\")\n",
    "\n",
    "# punct"
   ]
  },
  {
   "cell_type": "code",
   "execution_count": 74,
   "metadata": {},
   "outputs": [],
   "source": [
    "def remove_punctuations(text):\n",
    "    for punctuation in punct:\n",
    "        text = text.replace(punctuation, ' ')\n",
    "    return text"
   ]
  },
  {
   "cell_type": "code",
   "execution_count": 75,
   "metadata": {},
   "outputs": [],
   "source": [
    "data.review = data.review.apply(lambda x: remove_punctuations(x))"
   ]
  },
  {
   "cell_type": "code",
   "execution_count": 76,
   "metadata": {},
   "outputs": [],
   "source": [
    "# < and >\n",
    "data.review = data.review.str.replace(r'&lt;',r'<')\n",
    "data.review = data.review.str.replace(r'&gt;',r'>')"
   ]
  },
  {
   "cell_type": "code",
   "execution_count": 77,
   "metadata": {},
   "outputs": [],
   "source": [
    "# insert space between ! or ? and text  \n",
    "data.review = data.review.str.replace(r'([\\w\\d]+)([^\\w\\d ]+)', r'\\1 \\2')\n",
    "data.review = data.review.str.replace(r'([^\\w\\d ]+)([\\w\\d]+)', r'\\1 \\2')"
   ]
  },
  {
   "cell_type": "code",
   "execution_count": 78,
   "metadata": {},
   "outputs": [
    {
     "data": {
      "text/plain": [
       "79"
      ]
     },
     "execution_count": 78,
     "metadata": {},
     "output_type": "execute_result"
    }
   ],
   "source": [
    "long = data.review.apply(lambda x : len(x.split(' ')))\n",
    "max(long)"
   ]
  },
  {
   "cell_type": "code",
   "execution_count": 79,
   "metadata": {},
   "outputs": [
    {
     "name": "stdout",
     "output_type": "stream",
     "text": [
      "(59989, 2)\n"
     ]
    }
   ],
   "source": [
    "id =[]\n",
    "for index, row in data.iterrows():\n",
    "    if len(str(row.review).split(' ')) > 50:\n",
    "        id.append(index)\n",
    "        \n",
    "data.drop(id, inplace = True) \n",
    "print(data.shape)"
   ]
  },
  {
   "cell_type": "code",
   "execution_count": 80,
   "metadata": {},
   "outputs": [
    {
     "data": {
      "text/plain": [
       "1345269    just got a ticket to go hear john piper at  to...\n",
       "1539357                           oh  look who is on lunch  \n",
       "1434375    yay !! this gig is almost over  only and hour ...\n",
       "262889      welcome ! i m kind of bad about tweeting thou...\n",
       "1519936     i meant u pwned him !!!! hes just a wimp  lol...\n",
       "1193415                                less than an hour    \n",
       "580154                            ugh  i have a belly ache  \n",
       "799732     apparently farrah fawcett has just passed away...\n",
       "801412     great weekend with the bffs  freelancing  clea...\n",
       "1347472                        12 until the final product ! \n",
       "1208903                                              thanks \n",
       "218226     not a single cat adoption in weeks now  who wa...\n",
       "1450320                                      yes i am  you ?\n",
       "13699       yes ! tell us all about your concert coming u...\n",
       "44718                       all state would like to kill me \n",
       "871579      that s sweet of you to ask  world is full of ...\n",
       "1379344          really ? i didnt know that  theyre awesome \n",
       "1313101    on da net 2 c wat movies a playn  hmmmm i feel...\n",
       "1208174      experience is the best way to gain knowledge...\n",
       "45040                          working on saturday    eeeek \n",
       "465525                           i wish i had an iphone too \n",
       "1500784    found old  quot merry x mix quot  cds i gave a...\n",
       "1018970     sounds like fun ! i may check out that movie ...\n",
       "998877      i think i need to expand my friends list then...\n",
       "1026509    you should have hung around with me for a litt...\n",
       "403471                            missing my roomies !!!!!! \n",
       "1204838                       watching the mtv movie awards \n",
       "1555595    rest stop in tightwad for some souveneirs  sub...\n",
       "1287473    wooo ! best birthday ever ! sexy teachers  sco...\n",
       "62526                                it s my birthday today \n",
       "                                 ...                        \n",
       "834276                                      hello everybody \n",
       "875794     got ma internet bak  but dobbs has apparently ...\n",
       "753312       this kid just made his full debut for argent...\n",
       "464666      hey wordpressaholic ! have you found any hook...\n",
       "971917      you just said brothers girlfriend haha you me...\n",
       "86226      omg a nearly 2 hour maths exam tomorrow  and a...\n",
       "71628      finally home ! sad to leave anaheim  amp  la a...\n",
       "671968                    did u get it ?? i can t get texts \n",
       "1465161     oh yummy !  must be great to meet up with you...\n",
       "527375     hungry and i dont get lunch till another coupl...\n",
       "1266188     people do that ? maybe they never seen the al...\n",
       "871086     have just taken pain reliever tablet and appli...\n",
       "1119719        perfect tips and blog  i fecommend to follow \n",
       "1144378                              as long as you re okay \n",
       "1392001                     morning  had another 12 h sleep \n",
       "411317     i really  really  really want to be a milk don...\n",
       "455452     am feeling so tired these days  i end up sleep...\n",
       "1459155                        yeah we may get a bonus    f1\n",
       "1266204     its conan o brian nights tonight taking over ...\n",
       "945480      my dogs will  quot clean the dishes quot  not...\n",
       "926704      happy mothers day to you the bestest mommy ever \n",
       "1273529              fender stratocaster gibson hummingbird \n",
       "1170215                  welcome to china  enjoy your trip  \n",
       "788639                                 no ! i got sunburnt  \n",
       "1136313      love of my life  tell me you re at sea world ! \n",
       "87539                               u are always mean to me \n",
       "1538793     don t expect to much sob  chief gordon is get...\n",
       "996747                  love spanish  but english is better \n",
       "58619      and danny s grin    anyway that ll do  otherwi...\n",
       "1126640     well obviouslyy    but you could ve tweeted a...\n",
       "Name: review, Length: 59989, dtype: object"
      ]
     },
     "execution_count": 80,
     "metadata": {},
     "output_type": "execute_result"
    }
   ],
   "source": [
    "data.review"
   ]
  },
  {
   "cell_type": "code",
   "execution_count": 81,
   "metadata": {},
   "outputs": [],
   "source": [
    "data.to_csv('inputs/data.csv', index=False)"
   ]
  }
 ],
 "metadata": {
  "kernelspec": {
   "display_name": "Python 3",
   "language": "python",
   "name": "python3"
  },
  "language_info": {
   "codemirror_mode": {
    "name": "ipython",
    "version": 3
   },
   "file_extension": ".py",
   "mimetype": "text/x-python",
   "name": "python",
   "nbconvert_exporter": "python",
   "pygments_lexer": "ipython3",
   "version": "3.7.3"
  }
 },
 "nbformat": 4,
 "nbformat_minor": 2
}
